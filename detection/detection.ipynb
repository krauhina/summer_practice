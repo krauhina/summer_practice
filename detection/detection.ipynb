{
 "cells": [
  {
   "cell_type": "markdown",
   "id": "191b531f-4421-4044-87c5-92f20c85ed51",
   "metadata": {},
   "source": [
    "### Из-за небольшого времени на реализацию проекта я бы не успела протестировать и обучить с нуля две различные архитектуры (детекция и многоклассовая классификация). Больший интерес у меня вызвала именно классификация, поэтому я использовала предобученную модель yolon8 для детекции собак на изображениях, чтобы освободить побольше времени на работу с другими архитектурами\n"
   ]
  },
  {
   "cell_type": "code",
   "execution_count": null,
   "id": "d811b5ef-6034-479f-a76a-1ad4ff78c9ff",
   "metadata": {},
   "outputs": [],
   "source": [
    "import os\n",
    "import cv2\n",
    "from ultralytics import YOLO\n",
    "from tqdm import tqdm\n",
    "\n",
    "MODEL_PATH = \"yolov8n.pt\"          # Модель YOLO для детекции\n",
    "SOURCE_ROOT = \"C:/Users/User/.cache/kagglehub/datasets/darshanthakare/dog-breeds-image-dataset/versions/1/Dog Breeds Image Dataset\"        \n",
    "OUTPUT_ROOT = \"C:/Users/User/.cache/kagglehub/datasets/darshanthakare/dog-breeds-image-dataset/versions/1/Dog Breeds Image Dataset/cropped_dogs\"        \n",
    "CONFIDENCE_THRESH = 0.5            # Порог уверенности (0-1)\n",
    "\n",
    "model = YOLO(MODEL_PATH)\n",
    "\n",
    "for breed_dir in tqdm(os.listdir(SOURCE_ROOT)):\n",
    "    breed_path = os.path.join(SOURCE_ROOT, breed_dir)\n",
    "    \n",
    "    # Пропускаем файлы (только папки с породами)\n",
    "    if not os.path.isdir(breed_path):\n",
    "        continue\n",
    "    \n",
    "    # Создаем папку для обрезанных собак этой породы\n",
    "    output_breed_dir = os.path.join(OUTPUT_ROOT, breed_dir)\n",
    "    os.makedirs(output_breed_dir, exist_ok=True)\n",
    "    \n",
    "    # Обработка всех фото в папке породы\n",
    "    for img_name in os.listdir(breed_path):\n",
    "        if not img_name.lower().endswith(('.png', '.jpg', '.jpeg')):\n",
    "            continue\n",
    "        \n",
    "        img_path = os.path.join(breed_path, img_name)\n",
    "        img = cv2.imread(img_path)\n",
    "        if img is None:\n",
    "            continue\n",
    "        \n",
    "        # Детекция собак (класс 'dog' в COCO = 16)\n",
    "        results = model.predict(img, classes=[16], conf=CONFIDENCE_THRESH)\n",
    "        \n",
    "        # Сохранение каждой найденной собаки\n",
    "        for i, box in enumerate(results[0].boxes):\n",
    "            x1, y1, x2, y2 = map(int, box.xyxy[0].tolist())\n",
    "            dog_crop = img[y1:y2, x1:x2]\n",
    "            \n",
    "            # Сохраняем в папку породы с оригинальным именем + индексом\n",
    "            output_path = os.path.join(\n",
    "                output_breed_dir, \n",
    "                f\"{os.path.splitext(img_name)[0]}_{i}.jpg\"\n",
    "            )\n",
    "            cv2.imwrite(output_path, dog_crop)"
   ]
  }
 ],
 "metadata": {
  "kernelspec": {
   "display_name": "Python 3 (ipykernel)",
   "language": "python",
   "name": "python3"
  },
  "language_info": {
   "codemirror_mode": {
    "name": "ipython",
    "version": 3
   },
   "file_extension": ".py",
   "mimetype": "text/x-python",
   "name": "python",
   "nbconvert_exporter": "python",
   "pygments_lexer": "ipython3",
   "version": "3.11.11"
  }
 },
 "nbformat": 4,
 "nbformat_minor": 5
}
