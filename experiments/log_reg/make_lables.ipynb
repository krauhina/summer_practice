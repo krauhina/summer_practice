{
 "cells": [
  {
   "cell_type": "markdown",
   "id": "9b8f0d3e-9560-487c-af9f-537a97b1bba1",
   "metadata": {},
   "source": [
    "### Создание меток и фич для обучения модели логистической регрессии с использованием resnet"
   ]
  },
  {
   "cell_type": "code",
   "execution_count": 4,
   "id": "e1a238c1-a538-463b-aede-ce45b958b467",
   "metadata": {},
   "outputs": [
    {
     "name": "stderr",
     "output_type": "stream",
     "text": [
      "Processing classes: 100%|██████████| 75/75 [09:51<00:00,  7.89s/it]"
     ]
    },
    {
     "name": "stdout",
     "output_type": "stream",
     "text": [
      "\n",
      "Extracted features: (10117, 512)\n",
      "Extracted labels: (10117,)\n",
      "Class names: ['airedale', 'american_terrier', 'appenzeller', 'australian_terrier', 'basenji', 'basset_hound', 'beagle', 'bernese_mountain', 'blenheim_spaniel', 'blood_hound', 'bluetick', 'border_collie', 'border_terrier', 'boston_bulldog', 'boxer', 'brittany_spaniel', 'bull_mastiff', 'cairn_terrier', 'cardigan_corgi', 'chesapeake_retriever', 'chihuahua', 'chow', 'cocker_spaniel', 'dandie_terrier', 'english_setter', 'english_sheepdog', 'english_springer', 'entlebucher', 'french_bulldog', 'german_pointer', 'germanshepherd', 'golden_retriever', 'husky', 'irish_setter', 'irish_terrier', 'irish_wolfhound', 'italian_greyhound', 'kelpie', 'labrador', 'lakeland_terrier', 'lhasa', 'malinois', 'maltese', 'miniature_pinscher', 'mix', 'norfolk_terrier', 'norwegian_elkhound', 'norwich_terrier', 'papillon', 'pekinese', 'pembroke', 'pomeranian', 'pug', 'pyrenees', 'redbone', 'rottweiler', 'saluki', 'scottish_terrier', 'shetland_sheepdog', 'shihtzu', 'silky_terrier', 'staffordshire_bullterrier', 'stbernard', 'swiss_mountain', 'tibetan_terrier', 'toy_poodle', 'toy_terrier', 'vizsla', 'walker_hound', 'weimaraner', 'welsh_spaniel', 'westhighland_terrier', 'wheaten_terrier', 'whippet', 'yorkshire_terrier']\n"
     ]
    },
    {
     "name": "stderr",
     "output_type": "stream",
     "text": [
      "\n"
     ]
    }
   ],
   "source": [
    "import os\n",
    "import numpy as np\n",
    "from PIL import Image\n",
    "import torch\n",
    "import torchvision.models as models\n",
    "from torchvision.models import resnet18, ResNet18_Weights\n",
    "import torchvision.transforms as transforms\n",
    "from tqdm import tqdm\n",
    "\n",
    "data_root = \"C:/Users/User/.cache/kagglehub/datasets/darshanthakare/dog-breeds-image-dataset/versions/1/cropped_dogs\"\n",
    "feature_extractor = models.resnet18(weights=ResNet18_Weights.DEFAULT)\n",
    "feature_extractor = torch.nn.Sequential(*list(feature_extractor.children())[:-1])  # Удаляем последний слой\n",
    "feature_extractor.eval()\n",
    "\n",
    "transform = transforms.Compose([\n",
    "    transforms.Resize(256),\n",
    "    transforms.CenterCrop(224),\n",
    "    transforms.ToTensor(),\n",
    "    transforms.Normalize(mean=[0.485, 0.456, 0.406], std=[0.229, 0.224, 0.225])\n",
    "])\n",
    "\n",
    "features = []\n",
    "labels = []\n",
    "class_names = sorted(os.listdir(data_root))\n",
    "\n",
    "for class_idx, class_name in enumerate(tqdm(class_names, desc=\"Processing classes\")):\n",
    "    class_dir = os.path.join(data_root, class_name)\n",
    "    if not os.path.isdir(class_dir):\n",
    "        continue\n",
    "    \n",
    "    for img_name in os.listdir(class_dir):\n",
    "        img_path = os.path.join(class_dir, img_name)\n",
    "        try:\n",
    "            # Загрузка и преобразование изображения\n",
    "            img = Image.open(img_path).convert('RGB')\n",
    "            img_tensor = transform(img).unsqueeze(0)\n",
    "            \n",
    "            # Извлечение фич\n",
    "            with torch.no_grad():\n",
    "                feature = feature_extractor(img_tensor).squeeze().numpy()\n",
    "            \n",
    "            features.append(feature)\n",
    "            labels.append(class_idx)\n",
    "        except Exception as e:\n",
    "            print(f\"Error processing {img_path}: {e}\")\n",
    "\n",
    "# Конвертация в numpy массивы\n",
    "X = np.array(features)\n",
    "y = np.array(labels)\n",
    "\n",
    "np.save('dog_features75.npy', X)\n",
    "np.save('dog_labels75.npy', y)\n",
    "\n",
    "print(f\"\\nExtracted features: {X.shape}\")\n",
    "print(f\"Extracted labels: {y.shape}\")\n",
    "print(f\"Class names: {class_names}\")"
   ]
  },
  {
   "cell_type": "code",
   "execution_count": null,
   "id": "aa0ad33e-9ea6-44c6-8938-1c3edaa40edd",
   "metadata": {},
   "outputs": [],
   "source": []
  }
 ],
 "metadata": {
  "kernelspec": {
   "display_name": "Python 3 (ipykernel)",
   "language": "python",
   "name": "python3"
  },
  "language_info": {
   "codemirror_mode": {
    "name": "ipython",
    "version": 3
   },
   "file_extension": ".py",
   "mimetype": "text/x-python",
   "name": "python",
   "nbconvert_exporter": "python",
   "pygments_lexer": "ipython3",
   "version": "3.11.11"
  }
 },
 "nbformat": 4,
 "nbformat_minor": 5
}
